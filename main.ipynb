{
 "cells": [
  {
   "cell_type": "code",
   "execution_count": 1,
   "metadata": {},
   "outputs": [],
   "source": [
    "import re\n",
    "from collections import Counter\n",
    "import pandas as pd\n",
    "\n",
    "def words(text): return re.findall(r'\\w+', text.lower())\n",
    "WORDS = pd.read_excel('j 2.4.98.xlsx')\n",
    "WORDS = ' '.join(WORDS['fldTitle'].astype(str))\n",
    "rep = ['ي', 'ك', 'ﭘ', 'ﺼ', 'ﻔ', 'ﻣ', 'ﻲ', 'ﻘ', 'ﻨ', '\\u200f', '\\u200d', '\\u200d', '\\u200e', '\\u200c', '  ']\n",
    "rep_by = ['ی', 'ک', 'پ', 'ص', 'ف', 'م', 'ی', 'ق', 'ن', '', '', '', '', '', '']\n",
    "for x in range(len(rep)):\n",
    "    WORDS = WORDS.replace(rep[x], rep_by[x])\n",
    "    \n",
    "WORDS = Counter(words(WORDS))\n",
    "\n",
    "def P(word, N=sum(WORDS.values())): \n",
    "    \"Probability of `word`.\"\n",
    "    return WORDS[word] / N"
   ]
  },
  {
   "cell_type": "code",
   "execution_count": 2,
   "metadata": {},
   "outputs": [],
   "source": [
    "WORDS = dict((x,y) for x,y in WORDS.items() if y>1)"
   ]
  },
  {
   "cell_type": "code",
   "execution_count": 3,
   "metadata": {},
   "outputs": [],
   "source": [
    "def correction(word): \n",
    "    \"Most probable spelling correction for word.\"\n",
    "    return max(candidates(word), key=P)"
   ]
  },
  {
   "cell_type": "code",
   "execution_count": 4,
   "metadata": {},
   "outputs": [],
   "source": [
    "def candidates(word): \n",
    "    \"Generate possible spelling corrections for word.\"\n",
    "    return (known([word]) or known(edits1(word)) or known(edits2(word)) or [word])"
   ]
  },
  {
   "cell_type": "code",
   "execution_count": 5,
   "metadata": {},
   "outputs": [],
   "source": [
    "def known(words): \n",
    "    \"The subset of `words` that appear in the dictionary of WORDS.\"\n",
    "    return set(w for w in words if w in WORDS)"
   ]
  },
  {
   "cell_type": "code",
   "execution_count": 6,
   "metadata": {},
   "outputs": [],
   "source": [
    "def edits1(word):\n",
    "    \"All edits that are one edit away from `word`.\"\n",
    "    letters    = 'آ ا ب پ ت ث ج چ ح خ د ذ ر ز ژ س ش ص ض ط ظ ع غ ف ق ک گ ل م ن و ه ی'.split()\n",
    "    splits     = [(word[:i], word[i:])    for i in range(len(word) + 1)]\n",
    "    deletes    = [L + R[1:]               for L, R in splits if R]\n",
    "    transposes = [L + R[1] + R[0] + R[2:] for L, R in splits if len(R)>1]\n",
    "    replaces   = [L + c + R[1:]           for L, R in splits if R for c in letters]\n",
    "    inserts    = [L + c + R               for L, R in splits for c in letters]\n",
    "    return set(deletes + transposes + replaces + inserts)"
   ]
  },
  {
   "cell_type": "code",
   "execution_count": 7,
   "metadata": {},
   "outputs": [],
   "source": [
    "def edits2(word): \n",
    "    \"All edits that are two edits away from `word`.\"\n",
    "    return (e2 for e1 in edits1(word) for e2 in edits1(e1))"
   ]
  },
  {
   "cell_type": "code",
   "execution_count": 8,
   "metadata": {},
   "outputs": [],
   "source": [
    "def correction(word): return max(candidates(word), key=P)\n",
    "\n",
    "def candidates(word): \n",
    "    return known([word]) or known(edits1(word)) or known(edits2(word)) or [word]"
   ]
  },
  {
   "cell_type": "code",
   "execution_count": 11,
   "metadata": {},
   "outputs": [
    {
     "data": {
      "text/plain": [
       "'زا'"
      ]
     },
     "execution_count": 11,
     "metadata": {},
     "output_type": "execute_result"
    }
   ],
   "source": [
    "correction('فزا')"
   ]
  },
  {
   "cell_type": "code",
   "execution_count": 114,
   "metadata": {},
   "outputs": [],
   "source": [
    "test = pd.read_excel('test.xlsx', header = None)"
   ]
  },
  {
   "cell_type": "code",
   "execution_count": 121,
   "metadata": {},
   "outputs": [],
   "source": [
    "test[0] = test[0].str.replace('-', ' ').str.replace('،', ' ')\n",
    "test = test[(test[0].str.len()>1)&(test[0].str.split().str.len() == 1)]"
   ]
  },
  {
   "cell_type": "code",
   "execution_count": 152,
   "metadata": {},
   "outputs": [
    {
     "data": {
      "text/plain": [
       "0.375"
      ]
     },
     "execution_count": 152,
     "metadata": {},
     "output_type": "execute_result"
    }
   ],
   "source": [
    "count = 0\n",
    "al = 0\n",
    "edits = []\n",
    "for ind, row in test.iterrows():\n",
    "    t = row[0].replace('\\\\','').replace('(','').replace(')','')\n",
    "    try:\n",
    "        temp = correction(t)\n",
    "        al += 1\n",
    "        if temp == row[1]:\n",
    "            count += 1\n",
    "            edits.append([temp,'\\n',t])\n",
    "        else:\n",
    "            pass\n",
    "            #rint(temp, row[1])\n",
    "    except:\n",
    "        pass\n",
    "count/al"
   ]
  },
  {
   "cell_type": "code",
   "execution_count": 153,
   "metadata": {},
   "outputs": [
    {
     "data": {
      "text/plain": [
       "117"
      ]
     },
     "execution_count": 153,
     "metadata": {},
     "output_type": "execute_result"
    }
   ],
   "source": [
    "count"
   ]
  },
  {
   "cell_type": "code",
   "execution_count": 154,
   "metadata": {},
   "outputs": [
    {
     "data": {
      "text/plain": [
       "[['پزشکی', '\\n', 'پﺰشکی'],\n",
       " ['علوم', '\\n', 'علـوم\\xa0'],\n",
       " ['علوم', '\\n', 'عولم'],\n",
       " ['تحقیقات', '\\n', 'تحقیقان'],\n",
       " ['بهداشتی', '\\n', 'بهدداشتی'],\n",
       " ['تحقیقات', '\\n', 'تحققات'],\n",
       " ['امیرکبیر', '\\n', 'امیرکیبر'],\n",
       " ['فردوسی', '\\n', 'فردوسى'],\n",
       " ['اسلامشهر', '\\n', 'اسلامیشهر'],\n",
       " ['دانشگاه', '\\n', 'داشگاه'],\n",
       " ['تهران', '\\n', 'تهرن'],\n",
       " ['فردوسی', '\\n', 'فرودوسی'],\n",
       " ['مازندران', '\\n', 'مازندان'],\n",
       " ['اردبیلی', '\\n', 'اربیلی'],\n",
       " ['صنعتی', '\\n', 'صتعتی'],\n",
       " ['علوم', '\\n', 'علووم'],\n",
       " ['تربیت', '\\n', 'ترتبیت\\xa0'],\n",
       " ['درمانی', '\\n', 'درمانیی'],\n",
       " ['المللی', '\\n', 'امللی'],\n",
       " ['شهرکرد', '\\n', 'شهرکزد'],\n",
       " ['فردوسی', '\\n', 'فردوشی'],\n",
       " ['فردوسی', '\\n', 'فرودسی'],\n",
       " ['بلوچستان', '\\n', 'بلوچیستان'],\n",
       " ['بهشتی', '\\n', 'بهشنی'],\n",
       " ['مازندران', '\\n', 'مازندرن'],\n",
       " ['شهید', '\\n', 'شهِید'],\n",
       " ['ایران', '\\n', 'ایرران'],\n",
       " ['نصیرالدین', '\\n', 'نصیرتادین'],\n",
       " ['آذربایجان', '\\n', 'آذربایحان'],\n",
       " ['صنعتی', '\\n', 'صنتعی'],\n",
       " ['امیرکبیر', '\\n', 'امیرکبیرف'],\n",
       " ['خمینی', '\\n', 'خمینیی'],\n",
       " ['صنعتی', '\\n', 'صمعتی'],\n",
       " ['صنعتی', '\\n', 'صننعتی'],\n",
       " ['پزشکی', '\\n', 'پزکی'],\n",
       " ['پزشکی', '\\n', 'پزشیکی'],\n",
       " ['پزشکی', '\\n', 'پززشکی'],\n",
       " ['علامه', '\\n', 'علاامه'],\n",
       " ['شهرکرد', '\\n', 'شهرکردد'],\n",
       " ['علوم', '\\n', 'غلوم'],\n",
       " ['اصفهان', '\\n', 'اصفهن'],\n",
       " ['تهران', '\\n', 'تهرانان'],\n",
       " ['تهران', '\\n', 'تهراان'],\n",
       " ['پزشکی', '\\n', 'پژشکی'],\n",
       " ['علامه', '\\n', 'علامخ'],\n",
       " ['بهداشتی', '\\n', 'بهداشیت'],\n",
       " ['یزد', '\\n', 'یزذ'],\n",
       " ['پزشکی', '\\n', 'پزشگی'],\n",
       " ['کشاورزی', '\\n', 'کشورزی'],\n",
       " ['شهرکرد', '\\n', 'شهرکر'],\n",
       " ['اسلامی', '\\n', 'اسلامیف'],\n",
       " ['علوم', '\\n', 'عاوم'],\n",
       " ['دریانوردی', '\\n', 'دریانوردری'],\n",
       " ['طبیعی', '\\n', 'طیعی'],\n",
       " ['خوارزمی', '\\n', 'خوارمی'],\n",
       " ['شیراز', '\\n', 'شیرا$'],\n",
       " ['اهواز', '\\n', 'اهوا$'],\n",
       " ['علامه', '\\n', 'علالامه'],\n",
       " ['صنعتی', '\\n', 'صنعنی'],\n",
       " ['کرمان', '\\n', 'کرمانف'],\n",
       " ['پزشکی', '\\n', 'پشزکی'],\n",
       " ['پزشکی', '\\n', 'پسشکی'],\n",
       " ['پزشکی', '\\n', 'پزکشی'],\n",
       " ['پزشکی', '\\n', 'پگشکی'],\n",
       " ['پزشکی', '\\n', 'ژزشکی'],\n",
       " ['بهداشتی', '\\n', 'یهداشتی'],\n",
       " ['درمانی', '\\n', 'درمانید'],\n",
       " ['الهیات', '\\n', 'اللهیات'],\n",
       " ['پزشکی', '\\n', 'پذشکی'],\n",
       " ['پزشکی', '\\n', 'پرزشکی'],\n",
       " ['گرگان', '\\n', 'گرگا$'],\n",
       " ['گرگان', '\\n', 'گزگان'],\n",
       " ['کشاورزی', '\\n', 'کشاوررزی'],\n",
       " ['علوم', '\\n', 'علومخ'],\n",
       " ['علوم', '\\n', 'علومم'],\n",
       " ['علوم', '\\n', 'علومو'],\n",
       " ['لرستان', '\\n', 'لرشتان'],\n",
       " ['پزشکی', '\\n', 'پزشمی'],\n",
       " ['تهران', '\\n', 'تهرانا$'],\n",
       " ['طباطبایی', '\\n', 'طیاطیایی'],\n",
       " ['بهداشتی', '\\n', 'بهاشتی'],\n",
       " ['اصفهان', '\\n', 'اصقهان'],\n",
       " ['خدمات', '\\n', 'خدمان'],\n",
       " ['درمانی', '\\n', 'دمانی'],\n",
       " ['صنعتی', '\\n', 'صعتی'],\n",
       " ['بابل', '\\n', 'بایل'],\n",
       " ['شهید', '\\n', 'شیهد'],\n",
       " ['علامه', '\\n', 'علام?'],\n",
       " ['تحقیقات', '\\n', 'تحقیات'],\n",
       " ['مشهد', '\\n', 'مهشد'],\n",
       " ['کرمانشاه', '\\n', 'گرمانشاه'],\n",
       " ['علامه', '\\n', 'عللامه'],\n",
       " ['کشاورزی', '\\n', 'کشلورزی'],\n",
       " ['کشاورزی', '\\n', 'کشاورزری'],\n",
       " ['علوم', '\\n', 'علرم'],\n",
       " ['صنعت', '\\n', 'صتعت'],\n",
       " ['شریف', '\\n', 'شزیف'],\n",
       " ['صدا', '\\n', 'صداو'],\n",
       " ['شهید', '\\n', 'شهبد'],\n",
       " ['خوارزمی', '\\n', 'خوازمی'],\n",
       " ['خوارزمی', '\\n', 'خوازرمی'],\n",
       " ['علوم', '\\n', 'دعلوم'],\n",
       " ['تربیت', '\\n', 'تزبیت'],\n",
       " ['تحصیلات', '\\n', 'تحیصلات'],\n",
       " ['درمانی', '\\n', 'دمانی'],\n",
       " ['انتظامی', '\\n', 'انتطامی'],\n",
       " ['زنجان', '\\n', 'رنجان'],\n",
       " ['تحقیقات', '\\n', 'تحقبقات'],\n",
       " ['صدوقی', '\\n', 'صدوفی'],\n",
       " ['شاهرود', '\\n', 'شاهرورد'],\n",
       " ['رفسنجان', '\\n', 'رفسنج$'],\n",
       " ['سنندج', '\\n', 'سسندج'],\n",
       " ['تبریز', '\\n', 'تیریز'],\n",
       " ['طبیعی', '\\n', 'طیبعی'],\n",
       " ['کشاورزی', '\\n', 'کشارزی'],\n",
       " ['کشاورزی', '\\n', 'کشاوزری'],\n",
       " ['کرمان', '\\n', 'کرمانز']]"
      ]
     },
     "execution_count": 154,
     "metadata": {},
     "output_type": "execute_result"
    }
   ],
   "source": [
    "edits"
   ]
  },
  {
   "cell_type": "code",
   "execution_count": null,
   "metadata": {},
   "outputs": [],
   "source": []
  }
 ],
 "metadata": {
  "kernelspec": {
   "display_name": "Python 3",
   "language": "python",
   "name": "python3"
  },
  "language_info": {
   "codemirror_mode": {
    "name": "ipython",
    "version": 3
   },
   "file_extension": ".py",
   "mimetype": "text/x-python",
   "name": "python",
   "nbconvert_exporter": "python",
   "pygments_lexer": "ipython3",
   "version": "3.6.3"
  }
 },
 "nbformat": 4,
 "nbformat_minor": 2
}
